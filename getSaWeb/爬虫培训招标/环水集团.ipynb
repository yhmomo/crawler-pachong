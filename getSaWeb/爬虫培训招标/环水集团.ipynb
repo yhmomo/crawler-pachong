{
 "cells": [
  {
   "cell_type": "code",
   "id": "3fc87374-d81e-4fb3-b247-c5652530fc4a",
   "metadata": {
    "ExecuteTime": {
     "end_time": "2025-06-24T09:50:51.983212Z",
     "start_time": "2025-06-24T09:50:51.738609Z"
    }
   },
   "source": [
    "import csv\n",
    "\n",
    "import requests\n",
    "from bs4 import BeautifulSoup\n",
    "\n",
    "headers = {\n",
    "    'Accept': 'text/html,application/xhtml+xml,application/xml;q=0.9,image/avif,image/webp,image/apng,*/*;q=0.8,application/signed-exchange;v=b3;q=0.7',\n",
    "    'Accept-Language': 'zh-CN,zh;q=0.9,en;q=0.8,en-GB;q=0.7,en-US;q=0.6',\n",
    "    'Cache-Control': 'max-age=0',\n",
    "    'Connection': 'keep-alive',\n",
    "    'Referer': 'https://cg.sz-water.com.cn/search.jspx?q=%E5%9F%B9%E8%AE%AD',\n",
    "    'Sec-Fetch-Dest': 'document',\n",
    "    'Sec-Fetch-Mode': 'navigate',\n",
    "    'Sec-Fetch-Site': 'same-origin',\n",
    "    'Sec-Fetch-User': '?1',\n",
    "    'Upgrade-Insecure-Requests': '1',\n",
    "    'User-Agent': 'Mozilla/5.0 (Windows NT 10.0; Win64; x64) AppleWebKit/537.36 (KHTML, like Gecko) Chrome/137.0.0.0 Safari/537.36 Edg/137.0.0.0',\n",
    "    'sec-ch-ua': '\"Microsoft Edge\";v=\"137\", \"Chromium\";v=\"137\", \"Not/A)Brand\";v=\"24\"',\n",
    "    'sec-ch-ua-mobile': '?0',\n",
    "    'sec-ch-ua-platform': '\"Windows\"',\n",
    "    'Cookie': 'clientlanguage=zh_CN; Secure',\n",
    "}\n",
    "\n",
    "params = {\n",
    "    'q': '培训',\n",
    "}\n",
    "\n"
   ],
   "outputs": [],
   "execution_count": 1
  },
  {
   "cell_type": "code",
   "id": "98490d13-b2a3-4b69-b321-9d34ed4920ea",
   "metadata": {
    "ExecuteTime": {
     "end_time": "2025-06-24T09:50:52.015334Z",
     "start_time": "2025-06-24T09:50:51.996216Z"
    }
   },
   "source": [
    "def get_t(param, writer):\n",
    "    response = requests.get(f'https://cg.sz-water.com.cn/search{param}.jspx', params=params, headers=headers)\n",
    "    soup = BeautifulSoup(response.content, 'lxml')\n",
    "    List1 = soup.select(\"div.W1200.Center.WhiteBg.BorderEEE.Top20 > div > div > ul\")\n",
    "    for item in List1:\n",
    "        alist = item.find_all(\"li\")\n",
    "        for al in alist:\n",
    "            a = al.find_all(\"a\")\n",
    "            if '采购公告' in a[1].get_text():\n",
    "                href = a[0]['href']\n",
    "                title = a[0].get_text()\n",
    "                time = al.find('span', class_='Gray Right').text\n",
    "                writer.writerow([href, title, time])"
   ],
   "outputs": [],
   "execution_count": 2
  },
  {
   "cell_type": "code",
   "id": "66f7dc06-4d4d-402c-be27-fc71c53d937a",
   "metadata": {
    "ExecuteTime": {
     "end_time": "2025-06-24T09:51:00.631328Z",
     "start_time": "2025-06-24T09:50:52.028337Z"
    }
   },
   "source": [
    "with open('output.csv', mode='w', newline='', encoding='utf-8') as file:\n",
    "    writer = csv.writer(file)\n",
    "    writer.writerow(['href', 'title', 'time'])\n",
    "    for i in range(1, 28):\n",
    "        param = \"\"\n",
    "        if i >= 2:\n",
    "            param = \"_\" + str(i)\n",
    "        get_t(param, writer)\n",
    "        print(f\"{i}结束\")"
   ],
   "outputs": [
    {
     "name": "stdout",
     "output_type": "stream",
     "text": [
      "1结束\n",
      "2结束\n",
      "3结束\n",
      "4结束\n",
      "5结束\n",
      "6结束\n",
      "7结束\n",
      "8结束\n",
      "9结束\n",
      "10结束\n",
      "11结束\n",
      "12结束\n",
      "13结束\n",
      "14结束\n",
      "15结束\n",
      "16结束\n",
      "17结束\n",
      "18结束\n",
      "19结束\n",
      "20结束\n",
      "21结束\n",
      "22结束\n",
      "23结束\n",
      "24结束\n",
      "25结束\n",
      "26结束\n",
      "27结束\n"
     ]
    }
   ],
   "execution_count": 3
  },
  {
   "cell_type": "code",
   "id": "52479124-64ad-4750-9456-dd64f83a2658",
   "metadata": {
    "ExecuteTime": {
     "end_time": "2025-06-24T09:51:01.022424Z",
     "start_time": "2025-06-24T09:51:01.007319Z"
    }
   },
   "source": [],
   "outputs": [],
   "execution_count": null
  }
 ],
 "metadata": {
  "kernelspec": {
   "display_name": "Python 3 (ipykernel)",
   "language": "python",
   "name": "python3"
  },
  "language_info": {
   "codemirror_mode": {
    "name": "ipython",
    "version": 3
   },
   "file_extension": ".py",
   "mimetype": "text/x-python",
   "name": "python",
   "nbconvert_exporter": "python",
   "pygments_lexer": "ipython3",
   "version": "3.13.3"
  }
 },
 "nbformat": 4,
 "nbformat_minor": 5
}

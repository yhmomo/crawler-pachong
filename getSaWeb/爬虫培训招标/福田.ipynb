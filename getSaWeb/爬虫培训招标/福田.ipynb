{
 "cells": [
  {
   "cell_type": "code",
   "id": "ecb71f70-6a5b-491b-9c2e-a268a5f852b0",
   "metadata": {
    "ExecuteTime": {
     "end_time": "2025-06-24T12:18:06.255195Z",
     "start_time": "2025-06-24T12:18:05.276440Z"
    }
   },
   "source": [
    "import csv\n",
    "from datetime import datetime\n",
    "\n",
    "import requests\n",
    "\n",
    "cookies = {\n",
    "    'cmssearch_session': 'N8pn2IVYd3ZIOzpUkcKDEf98Vbp820KSDFudJkXK',\n",
    "    'SEARCH_LIST': '%5B%22%5Cu91c7%5Cu8d2d%22%2C%22%5Cu57f9%5Cu8bad%5Cu62db%5Cu6807%22%5D',\n",
    "    'XSRF-TOKEN': 'eyJpdiI6IlJaUkRrTnRFQktiQ21mTlVZU1hJOXc9PSIsInZhbHVlIjoiWFJPamtXQm52ZEg0R0NWV3dQVyt0dkQxa0s2a1A4RVJkdkhpUDUrU2xZNWhUeDY2VU0xVlhKVVwvbHhXZ1NXNFkiLCJtYWMiOiJjZWViOGIxZjllZGM5MTQ5N2YzMzNlZTE0NmRhNDIzY2I4MDkxYjAyMjRjOTY1N2FhODY4MDMwMjQ1ZDMwZDQ4In0%3D',\n",
    "}\n",
    "\n",
    "headers = {\n",
    "    'Accept': 'application/json, text/plain, */*',\n",
    "    'Accept-Language': 'zh-CN,zh;q=0.9,en;q=0.8,en-GB;q=0.7,en-US;q=0.6',\n",
    "    'Connection': 'keep-alive',\n",
    "    'Content-Type': 'application/json',\n",
    "    'Origin': 'https://search.gd.gov.cn',\n",
    "    'Referer': 'https://search.gd.gov.cn/search/all/755039?position=all&keywords=%E5%9F%B9%E8%AE%AD%E6%8B%9B%E6%A0%87',\n",
    "    'Sec-Fetch-Dest': 'empty',\n",
    "    'Sec-Fetch-Mode': 'cors',\n",
    "    'Sec-Fetch-Site': 'same-origin',\n",
    "    'User-Agent': 'Mozilla/5.0 (Windows NT 10.0; Win64; x64) AppleWebKit/537.36 (KHTML, like Gecko) Chrome/137.0.0.0 Safari/537.36',\n",
    "    'X-XSRF-TOKEN': 'eyJpdiI6IlJaUkRrTnRFQktiQ21mTlVZU1hJOXc9PSIsInZhbHVlIjoiWFJPamtXQm52ZEg0R0NWV3dQVyt0dkQxa0s2a1A4RVJkdkhpUDUrU2xZNWhUeDY2VU0xVlhKVVwvbHhXZ1NXNFkiLCJtYWMiOiJjZWViOGIxZjllZGM5MTQ5N2YzMzNlZTE0NmRhNDIzY2I4MDkxYjAyMjRjOTY1N2FhODY4MDMwMjQ1ZDMwZDQ4In0=',\n",
    "    'sec-ch-ua': '\"Microsoft Edge\";v=\"137\", \"Chromium\";v=\"137\", \"Not/A)Brand\";v=\"24\"',\n",
    "    'sec-ch-ua-mobile': '?0',\n",
    "    'sec-ch-ua-platform': '\"Windows\"',\n",
    "    # 'Cookie': 'cmssearch_session=N8pn2IVYd3ZIOzpUkcKDEf98Vbp820KSDFudJkXK; SEARCH_LIST=%5B%22%5Cu91c7%5Cu8d2d%22%2C%22%5Cu57f9%5Cu8bad%5Cu62db%5Cu6807%22%5D; XSRF-TOKEN=eyJpdiI6IlJaUkRrTnRFQktiQ21mTlVZU1hJOXc9PSIsInZhbHVlIjoiWFJPamtXQm52ZEg0R0NWV3dQVyt0dkQxa0s2a1A4RVJkdkhpUDUrU2xZNWhUeDY2VU0xVlhKVVwvbHhXZ1NXNFkiLCJtYWMiOiJjZWViOGIxZjllZGM5MTQ5N2YzMzNlZTE0NmRhNDIzY2I4MDkxYjAyMjRjOTY1N2FhODY4MDMwMjQ1ZDMwZDQ4In0%3D',\n",
    "}\n",
    "\n",
    "json_data = {\n",
    "    'position': 'all',\n",
    "    'keywords': '培训招标',\n",
    "    'sort': 'smart',\n",
    "    'site_id': '755039',\n",
    "    'range': 'site',\n",
    "    'page': 1,\n",
    "    'recommand': 1,\n",
    "    'gdbsDivision': '440304',\n",
    "    'service_area': 755,\n",
    "}\n",
    "\n",
    "response = requests.post('https://search.gd.gov.cn/api/search/all', cookies=cookies, headers=headers, json=json_data)\n",
    "\n",
    "json = response.json()\n",
    "data = json[\"data\"]\n",
    "news = data[\"news\"]\n",
    "list1 = news[\"list\"]\n",
    "with open('output.csv', 'a', newline='', encoding='utf-8') as csvfile:\n",
    "    # 创建 CSV 写入器\n",
    "    csv_writer = csv.writer(csvfile)\n",
    "    for i in list1:\n",
    "        url = i['url']\n",
    "        title = i['title']\n",
    "        timestamp = i['create_time']\n",
    "        time = datetime.fromtimestamp(timestamp)\n",
    "        print(url, title, time)\n",
    "        csv_writer.writerow([url, title, str(time)])\n",
    "        print(\"写入成功\")  # 写入一行数据\n"
   ],
   "outputs": [
    {
     "name": "stdout",
     "output_type": "stream",
     "text": [
      "https://www.szft.gov.cn/ftqrlzyj/gkmlpt/content/10/10210/post_10210856.html 招标公告 2022-11-01 17:49:42\n",
      "写入成功\n",
      "https://www.szft.gov.cn/xxgk/bmtzgg/content/post_7309275.html 福保街道办事处消防设施操作员业务技能提升<em>培</em><em>训</em><em>招</em><em>标</em>需求公示 2020-04-16 17:36:37\n",
      "写入成功\n",
      "https://www.szft.gov.cn/xxgk/bmtzgg/content/post_10210865.html 招标公告 2022-11-01 17:49:42\n",
      "写入成功\n",
      "https://www.szft.gov.cn/ftfbb/gkmlpt/content/7/7288/post_7288618.html 福保街道办事处消防设施操作员业务技能提升<em>培</em><em>训</em><em>招</em><em>标</em>需求公示 2020-04-16 17:36:37\n",
      "写入成功\n"
     ]
    }
   ],
   "execution_count": 17
  }
 ],
 "metadata": {
  "kernelspec": {
   "display_name": "Python 3 (ipykernel)",
   "language": "python",
   "name": "python3"
  },
  "language_info": {
   "codemirror_mode": {
    "name": "ipython",
    "version": 3
   },
   "file_extension": ".py",
   "mimetype": "text/x-python",
   "name": "python",
   "nbconvert_exporter": "python",
   "pygments_lexer": "ipython3",
   "version": "3.13.3"
  }
 },
 "nbformat": 4,
 "nbformat_minor": 5
}
